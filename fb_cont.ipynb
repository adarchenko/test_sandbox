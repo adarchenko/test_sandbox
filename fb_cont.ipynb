{
  "nbformat": 4,
  "nbformat_minor": 0,
  "metadata": {
    "colab": {
      "name": "Untitled4.ipynb",
      "provenance": [],
      "toc_visible": true,
      "authorship_tag": "ABX9TyP234DLTdx0rbBRhVObQ9F5",
      "include_colab_link": true
    },
    "kernelspec": {
      "name": "python3",
      "display_name": "Python 3"
    },
    "language_info": {
      "name": "python"
    }
  },
  "cells": [
    {
      "cell_type": "markdown",
      "metadata": {
        "id": "view-in-github",
        "colab_type": "text"
      },
      "source": [
        "<a href=\"https://colab.research.google.com/github/adarchenko/test_sandbox/blob/main/fb_cont.ipynb\" target=\"_parent\"><img src=\"https://colab.research.google.com/assets/colab-badge.svg\" alt=\"Open In Colab\"/></a>"
      ]
    },
    {
      "cell_type": "code",
      "metadata": {
        "id": "Tj3Q4hY1PHxY"
      },
      "source": [
        "# media parameters\n",
        "rho = 18.7\n",
        "A = 235\n",
        "Na = 6.022141e24\n",
        "conc = Na * rho / A\n",
        "# cross-sections\n",
        "sigma_t = 7.85e-24\n",
        "sigma_c = 0.13e-24\n",
        "sigma_s = 6.47e-24\n",
        "sigma_f = 1.25e-24\n",
        "q = 0.1\n",
        "nu = 2.0\n",
        "v = 138"
      ],
      "execution_count": 4,
      "outputs": []
    },
    {
      "cell_type": "code",
      "metadata": {
        "id": "FAXz7oruPn9f"
      },
      "source": [
        "alpha = conc * (sigma_s * q + 0.5*sigma_f * nu)\n",
        "beta  = conc * (sigma_t - sigma_s * (1 - q) - 0.5*sigma_f * nu)\n"
      ],
      "execution_count": 5,
      "outputs": []
    },
    {
      "cell_type": "code",
      "metadata": {
        "id": "kNY6aIv_PpsC"
      },
      "source": [
        ""
      ],
      "execution_count": null,
      "outputs": []
    }
  ]
}