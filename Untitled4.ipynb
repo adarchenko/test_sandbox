{
  "nbformat": 4,
  "nbformat_minor": 0,
  "metadata": {
    "colab": {
      "name": "Untitled4.ipynb",
      "provenance": [],
      "collapsed_sections": [],
      "toc_visible": true,
      "authorship_tag": "ABX9TyOaijNrTIXgF/yNAZl8Q1X2",
      "include_colab_link": true
    },
    "kernelspec": {
      "name": "python3",
      "display_name": "Python 3"
    },
    "language_info": {
      "name": "python"
    }
  },
  "cells": [
    {
      "cell_type": "markdown",
      "metadata": {
        "id": "view-in-github",
        "colab_type": "text"
      },
      "source": [
        "<a href=\"https://colab.research.google.com/github/adarchenko/test_sandbox/blob/main/Untitled4.ipynb\" target=\"_parent\"><img src=\"https://colab.research.google.com/assets/colab-badge.svg\" alt=\"Open In Colab\"/></a>"
      ]
    },
    {
      "cell_type": "code",
      "metadata": {
        "id": "Tj3Q4hY1PHxY"
      },
      "source": [
        "import numpy as np\n",
        "import matplotlib.pyplot as plt"
      ],
      "execution_count": 109,
      "outputs": []
    },
    {
      "cell_type": "code",
      "metadata": {
        "id": "4QhetJ-NSwE6"
      },
      "source": [
        "# media parameters\n",
        "rho = 18.7\n",
        "A = 235\n",
        "Na = 6.022141e24\n",
        "conc = Na * rho / A\n",
        "# cross-sections\n",
        "sigma_t = 7.85e-24\n",
        "sigma_c = 0.13e-24\n",
        "sigma_s = 6.47e-24\n",
        "sigma_f = 1.25e-24\n",
        "q = 0.1\n",
        "nu = 2.0\n",
        "v = 138"
      ],
      "execution_count": 110,
      "outputs": []
    },
    {
      "cell_type": "code",
      "metadata": {
        "id": "FAXz7oruPn9f"
      },
      "source": [
        "alpha = conc * (sigma_s * q + 0.5*sigma_f * nu)\n",
        "beta  = conc * (sigma_t - sigma_s * (1 - q) - 0.5*sigma_f * nu)\n"
      ],
      "execution_count": 111,
      "outputs": []
    },
    {
      "cell_type": "code",
      "metadata": {
        "id": "kNY6aIv_PpsC"
      },
      "source": [
        "# mesh parameters\n",
        "R = 10.0\n",
        "Nx = 600 - 1\n",
        "h = R / Nx\n",
        "k = 0.5\n",
        "tau = h * k / v\n",
        "T = 1.0\n",
        "Nt = int(T/tau)\n",
        "x_grid = np.linspace(0,R,Nx)\n",
        "t_grid = np.linspace(0,T,Nt)\n",
        "F = np.zeros([Nx,Nt])\n",
        "B = np.zeros([Nx,Nt])"
      ],
      "execution_count": 112,
      "outputs": []
    },
    {
      "cell_type": "code",
      "metadata": {
        "id": "d0mjqgpES2Vt"
      },
      "source": [
        "def initstate(interval, inits):\n",
        "  F[interval,0] = inits[0]\n",
        "  B[interval,0] = inits[1]\n"
      ],
      "execution_count": 113,
      "outputs": []
    },
    {
      "cell_type": "code",
      "metadata": {
        "id": "rd1E8v6xXz87"
      },
      "source": [
        "def boundary(time_slice):\n",
        "  F[0,time_slice] = 0\n",
        "  B[-1,time_slice] = 0"
      ],
      "execution_count": 114,
      "outputs": []
    },
    {
      "cell_type": "code",
      "metadata": {
        "id": "ZKmrKuOnS7k1"
      },
      "source": [
        "def solver():\n",
        "  for i in range(Nt-1):\n",
        "    F[1:,i+1] = F[1:,i] + v*tau * ( - alpha*F[1:,i] + beta*B[1:,i]) - k*(F[1:,i] - F[:-1,i])\n",
        "    B[:-1,i+1] = B[:-1,i] + v*tau * ( - alpha*B[:-1,i] + beta*F[:-1,i]) - k*(B[:-1,i] - B[1:,i])\n",
        "    boundary(i+1)\n"
      ],
      "execution_count": 115,
      "outputs": []
    },
    {
      "cell_type": "code",
      "metadata": {
        "id": "DVva8_e0c45R"
      },
      "source": [
        "def plotter(x_grid, t_grid, F, B, t_slice):\n",
        "  fig, ax = plt.subplots()\n",
        "\n",
        "  # Using set_dashes() to modify dashing of an existing line\n",
        "  line1, = ax.plot(x_grid, F[:,t_slice], label='Forward particles')\n",
        "  line1.set_dashes([2, 2, 10, 2])  # 2pt line, 2pt break, 10pt line, 2pt break\n",
        "\n",
        "  # Using plot(..., dashes=...) to set the dashing when creating a line\n",
        "  line2, = ax.plot(x_grid, B[:,t_slice], dashes=[6, 2], label='Backward particles')\n",
        "\n",
        "  line3, = ax.plot(x_grid, F[:,t_slice] + B[:,t_slice], label='Backward particles')\n",
        "\n",
        "  ax.legend()\n",
        "  plt.show()"
      ],
      "execution_count": 122,
      "outputs": []
    },
    {
      "cell_type": "code",
      "metadata": {
        "colab": {
          "base_uri": "https://localhost:8080/",
          "height": 265
        },
        "id": "XBhfaCKQUgLt",
        "outputId": "8160766a-cb00-4701-9ded-89cdbf3afd4e"
      },
      "source": [
        "nonzero = list(range(290,310))\n",
        "initstate(nonzero, [1,1])\n",
        "boundary(0)\n",
        "solver()\n",
        "plotter(x_grid, t_grid, F, B, 1000)"
      ],
      "execution_count": 123,
      "outputs": [
        {
          "output_type": "display_data",
          "data": {
            "image/png": "[encoded data removed]",
            "text/plain": [
              "<Figure size 432x288 with 1 Axes>"
            ]
          },
          "metadata": {
            "tags": [],
            "needs_background": "light"
          }
        }
      ]
    },
    {
      "cell_type": "code",
      "metadata": {
        "colab": {
          "base_uri": "https://localhost:8080/"
        },
        "id": "gJR71bBDVMR6",
        "outputId": "05212fdb-58fc-472c-d46e-9c1ea2d0eecd"
      },
      "source": [
        "solver()"
      ],
      "execution_count": 77,
      "outputs": [
        {
          "output_type": "stream",
          "text": [
            "/usr/local/lib/python3.7/dist-packages/ipykernel_launcher.py:3: RuntimeWarning: overflow encountered in subtract\n",
            "  This is separate from the ipykernel package so we can avoid doing imports until\n",
            "/usr/local/lib/python3.7/dist-packages/ipykernel_launcher.py:3: RuntimeWarning: invalid value encountered in add\n",
            "  This is separate from the ipykernel package so we can avoid doing imports until\n",
            "/usr/local/lib/python3.7/dist-packages/ipykernel_launcher.py:3: RuntimeWarning: overflow encountered in add\n",
            "  This is separate from the ipykernel package so we can avoid doing imports until\n",
            "/usr/local/lib/python3.7/dist-packages/ipykernel_launcher.py:4: RuntimeWarning: overflow encountered in subtract\n",
            "  after removing the cwd from sys.path.\n",
            "/usr/local/lib/python3.7/dist-packages/ipykernel_launcher.py:4: RuntimeWarning: invalid value encountered in add\n",
            "  after removing the cwd from sys.path.\n",
            "/usr/local/lib/python3.7/dist-packages/ipykernel_launcher.py:4: RuntimeWarning: overflow encountered in add\n",
            "  after removing the cwd from sys.path.\n"
          ],
          "name": "stderr"
        }
      ]
    },
    {
      "cell_type": "code",
      "metadata": {
        "colab": {
          "base_uri": "https://localhost:8080/"
        },
        "id": "9hQfLwZ2VzeD",
        "outputId": "c506d342-e34f-44a1-9498-7f8046bce53c"
      },
      "source": [
        "list(range(290,310))"
      ],
      "execution_count": 107,
      "outputs": [
        {
          "output_type": "execute_result",
          "data": {
            "text/plain": [
              "[290,\n",
              " 291,\n",
              " 292,\n",
              " 293,\n",
              " 294,\n",
              " 295,\n",
              " 296,\n",
              " 297,\n",
              " 298,\n",
              " 299,\n",
              " 300,\n",
              " 301,\n",
              " 302,\n",
              " 303,\n",
              " 304,\n",
              " 305,\n",
              " 306,\n",
              " 307,\n",
              " 308,\n",
              " 309]"
            ]
          },
          "metadata": {
            "tags": []
          },
          "execution_count": 107
        }
      ]
    },
    {
      "cell_type": "code",
      "metadata": {
        "colab": {
          "base_uri": "https://localhost:8080/"
        },
        "id": "HObpYiiSZ1FH",
        "outputId": "a21238a1-997d-490d-c97b-27754cb5cd0a"
      },
      "source": [
        "x[:-1]"
      ],
      "execution_count": 67,
      "outputs": [
        {
          "output_type": "execute_result",
          "data": {
            "text/plain": [
              "[1, 2, 3, 4]"
            ]
          },
          "metadata": {
            "tags": []
          },
          "execution_count": 67
        }
      ]
    },
    {
      "cell_type": "code",
      "metadata": {
        "colab": {
          "base_uri": "https://localhost:8080/"
        },
        "id": "m91fNql7Z77J",
        "outputId": "e0eeb7d0-e854-42da-ee18-871e3aa3600a"
      },
      "source": [
        "x[1:]"
      ],
      "execution_count": 68,
      "outputs": [
        {
          "output_type": "execute_result",
          "data": {
            "text/plain": [
              "[2, 3, 4, 5]"
            ]
          },
          "metadata": {
            "tags": []
          },
          "execution_count": 68
        }
      ]
    },
    {
      "cell_type": "code",
      "metadata": {
        "id": "qlHbrilOZ-vE"
      },
      "source": [
        ""
      ],
      "execution_count": null,
      "outputs": []
    }
  ]
}