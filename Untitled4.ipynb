{
  "nbformat": 4,
  "nbformat_minor": 0,
  "metadata": {
    "colab": {
      "name": "Untitled4.ipynb",
      "provenance": [],
      "toc_visible": true,
      "authorship_tag": "ABX9TyPvQ5zUnBldHSy8VmEuVNga",
      "include_colab_link": true
    },
    "kernelspec": {
      "name": "python3",
      "display_name": "Python 3"
    },
    "language_info": {
      "name": "python"
    }
  },
  "cells": [
    {
      "cell_type": "markdown",
      "metadata": {
        "id": "view-in-github",
        "colab_type": "text"
      },
      "source": [
        "<a href=\"https://colab.research.google.com/github/adarchenko/test_sandbox/blob/main/Untitled4.ipynb\" target=\"_parent\"><img src=\"https://colab.research.google.com/assets/colab-badge.svg\" alt=\"Open In Colab\"/></a>"
      ]
    },
    {
      "cell_type": "code",
      "metadata": {
        "id": "Tj3Q4hY1PHxY"
      },
      "source": [
        "import numpy as np\n"
      ],
      "execution_count": 7,
      "outputs": []
    },
    {
      "cell_type": "code",
      "metadata": {
        "id": "4QhetJ-NSwE6"
      },
      "source": [
        "# media parameters\n",
        "rho = 18.7\n",
        "A = 235\n",
        "Na = 6.022141e24\n",
        "conc = Na * rho / A\n",
        "# cross-sections\n",
        "sigma_t = 7.85e-24\n",
        "sigma_c = 0.13e-24\n",
        "sigma_s = 6.47e-24\n",
        "sigma_f = 1.25e-24\n",
        "q = 0.1\n",
        "nu = 2.0\n",
        "v = 138"
      ],
      "execution_count": 8,
      "outputs": []
    },
    {
      "cell_type": "code",
      "metadata": {
        "id": "FAXz7oruPn9f"
      },
      "source": [
        "alpha = conc * (sigma_s * q + 0.5*sigma_f * nu)\n",
        "beta  = conc * (sigma_t - sigma_s * (1 - q) - 0.5*sigma_f * nu)\n"
      ],
      "execution_count": 9,
      "outputs": []
    },
    {
      "cell_type": "code",
      "metadata": {
        "id": "kNY6aIv_PpsC"
      },
      "source": [
        "# mesh parameters\n",
        "R = 10.0\n",
        "Nx = 600 - 1\n",
        "h = R / Nx\n",
        "k = 0.5\n",
        "tau = h * k / v\n",
        "T = 1.0\n",
        "Nt = int(T/tau)\n",
        "x_grid = np.linspace(0,R,Nx)\n",
        "t_grid = np.linspace(0,T,Nt)\n",
        "F = np.zeros([Nx,Nt])\n",
        "B = np.zeros([Nx,Nt])"
      ],
      "execution_count": 25,
      "outputs": []
    },
    {
      "cell_type": "code",
      "metadata": {
        "id": "d0mjqgpES2Vt"
      },
      "source": [
        "def initstate(interval, inits):\n",
        "  F[interval,0] = inits[0]\n",
        "  B[interval,0] = inits[1]\n"
      ],
      "execution_count": 52,
      "outputs": []
    },
    {
      "cell_type": "code",
      "metadata": {
        "id": "rd1E8v6xXz87"
      },
      "source": [
        "def boundary(time_slice):\n",
        "  F[0,time_slice] = 0\n",
        "  B[-1,time_slice] = 0"
      ],
      "execution_count": 53,
      "outputs": []
    },
    {
      "cell_type": "code",
      "metadata": {
        "id": "ZKmrKuOnS7k1"
      },
      "source": [
        "def solver():\n",
        "  for i in range(Nt):\n",
        "    F[1:-1,i+1] = \n"
      ],
      "execution_count": 44,
      "outputs": []
    },
    {
      "cell_type": "code",
      "metadata": {
        "colab": {
          "base_uri": "https://localhost:8080/"
        },
        "id": "XBhfaCKQUgLt",
        "outputId": "719eb610-88f3-4b28-ed7b-b5781bed7946"
      },
      "source": [
        "nonzero = 10+np.cumsum(10*[1])\n",
        "initstate(nonzero, [1,1])"
      ],
      "execution_count": 46,
      "outputs": [
        {
          "output_type": "execute_result",
          "data": {
            "text/plain": [
              "True"
            ]
          },
          "metadata": {
            "tags": []
          },
          "execution_count": 46
        }
      ]
    },
    {
      "cell_type": "code",
      "metadata": {
        "colab": {
          "base_uri": "https://localhost:8080/"
        },
        "id": "gJR71bBDVMR6",
        "outputId": "9d972890-384e-41a3-d179-177045b40f5e"
      },
      "source": [
        "list()\n"
      ],
      "execution_count": 51,
      "outputs": [
        {
          "output_type": "execute_result",
          "data": {
            "text/plain": [
              "[]"
            ]
          },
          "metadata": {
            "tags": []
          },
          "execution_count": 51
        }
      ]
    },
    {
      "cell_type": "code",
      "metadata": {
        "id": "9hQfLwZ2VzeD"
      },
      "source": [
        ""
      ],
      "execution_count": null,
      "outputs": []
    }
  ]
}