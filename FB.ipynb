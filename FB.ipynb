{
  "nbformat": 4,
  "nbformat_minor": 0,
  "metadata": {
    "colab": {
      "name": "Untitled4.ipynb",
      "provenance": [],
      "collapsed_sections": [],
      "authorship_tag": "ABX9TyObKbhsEWL3lA9nkpKdoSO0",
      "include_colab_link": true
    },
    "kernelspec": {
      "name": "python3",
      "display_name": "Python 3"
    },
    "language_info": {
      "name": "python"
    }
  },
  "cells": [
    {
      "cell_type": "markdown",
      "metadata": {
        "id": "view-in-github",
        "colab_type": "text"
      },
      "source": [
        "<a href=\"https://colab.research.google.com/github/adarchenko/test_sandbox/blob/main/FB.ipynb\" target=\"_parent\"><img src=\"https://colab.research.google.com/assets/colab-badge.svg\" alt=\"Open In Colab\"/></a>"
      ]
    },
    {
      "cell_type": "code",
      "metadata": {
        "id": "Tj3Q4hY1PHxY"
      },
      "source": [
        "import numpy as np\n",
        "import matplotlib.pyplot as plt\n",
        "import matplotlib"
      ],
      "execution_count": 2,
      "outputs": []
    },
    {
      "cell_type": "code",
      "metadata": {
        "id": "4QhetJ-NSwE6"
      },
      "source": [
        "# media parameters\n",
        "rho = 18.7\n",
        "A = 235\n",
        "Na = 6.022141e24\n",
        "conc = Na * rho / A\n",
        "# cross-sections\n",
        "sigma_t = 7.85e-24\n",
        "sigma_c = 0.13e-24\n",
        "sigma_s = 6.47e-24\n",
        "sigma_f = 1.25e-24\n",
        "q = 0.1\n",
        "nu = 2.0\n",
        "v = 138"
      ],
      "execution_count": 3,
      "outputs": []
    },
    {
      "cell_type": "code",
      "metadata": {
        "id": "FAXz7oruPn9f"
      },
      "source": [
        "alpha = conc * (sigma_s * q + 0.5*sigma_f * nu)\n",
        "beta  = conc * (sigma_t - sigma_s * (1 - q) - 0.5*sigma_f * nu)\n"
      ],
      "execution_count": 4,
      "outputs": []
    },
    {
      "cell_type": "code",
      "metadata": {
        "id": "kNY6aIv_PpsC"
      },
      "source": [
        "# mesh parameters\n",
        "R = 10.0\n",
        "Nx = 600 - 1\n",
        "h = R / Nx\n",
        "k = 0.5\n",
        "tau = h * k / v\n",
        "T = 1.0\n",
        "Nt = int(T/tau)\n",
        "x_grid = np.linspace(0,R,Nx)\n",
        "t_grid = np.linspace(0,T,Nt)\n",
        "F = np.zeros([Nx,Nt])\n",
        "B = np.zeros([Nx,Nt])"
      ],
      "execution_count": 5,
      "outputs": []
    },
    {
      "cell_type": "code",
      "metadata": {
        "id": "d0mjqgpES2Vt"
      },
      "source": [
        "def initstate(interval, inits):\n",
        "  F[interval,0] = inits[0]\n",
        "  B[interval,0] = inits[1]\n"
      ],
      "execution_count": 6,
      "outputs": []
    },
    {
      "cell_type": "code",
      "metadata": {
        "id": "rd1E8v6xXz87"
      },
      "source": [
        "def boundary(time_slice):\n",
        "  F[0,time_slice] = 0\n",
        "  B[-1,time_slice] = 0"
      ],
      "execution_count": 7,
      "outputs": []
    },
    {
      "cell_type": "code",
      "metadata": {
        "id": "ZKmrKuOnS7k1"
      },
      "source": [
        "def solver():\n",
        "  for i in range(Nt-1):\n",
        "    F[1:,i+1] = F[1:,i] + v*tau * ( - alpha*F[1:,i] + beta*B[1:,i]) - k*(F[1:,i] - F[:-1,i])\n",
        "    B[:-1,i+1] = B[:-1,i] + v*tau * ( - alpha*B[:-1,i] + beta*F[:-1,i]) - k*(B[:-1,i] - B[1:,i])\n",
        "    boundary(i+1)\n"
      ],
      "execution_count": 8,
      "outputs": []
    },
    {
      "cell_type": "code",
      "metadata": {
        "id": "DVva8_e0c45R"
      },
      "source": [
        "def plotter(x_grid, t_grid, F, B, t_slice):\n",
        "  fig, ax = plt.subplots(1,2, figsize=(14,7), dpi= 100, facecolor='w', edgecolor='k')\n",
        "  SMALL_SIZE = 12\n",
        "  MEDIUM_SIZE = 14\n",
        "  BIGGER_SIZE = 14\n",
        "  # font = {'family' : 'normal',\n",
        "  #        'weight' : 'bold',\n",
        "  #        'size'   : 22}\n",
        "  font = {'family': 'Monospace'}\n",
        "  matplotlib.rc('font', **font)\n",
        "  plt.rc('font', size=SMALL_SIZE)          # controls default text sizes\n",
        "  plt.rc('axes', titlesize=SMALL_SIZE)     # fontsize of the axes title\n",
        "  plt.rc('axes', labelsize=MEDIUM_SIZE)    # fontsize of the x and y labels\n",
        "  plt.rc('xtick', labelsize=SMALL_SIZE)    # fontsize of the tick labels\n",
        "  plt.rc('ytick', labelsize=SMALL_SIZE)    # fontsize of the tick labels\n",
        "  plt.rc('legend', fontsize=SMALL_SIZE)    # legend fontsize\n",
        "  plt.rc('figure', titlesize=BIGGER_SIZE)  # fontsize of the figure title\n",
        "  # Конец оформления и начало собственно построения графиков\n",
        "  ###  \n",
        "  # Using set_dashes() to modify dashing of an existing line\n",
        "  ax[0].plot(x_grid, F[:,t_slice], color = 'red', linewidth = 2, dashes=[6, 2], label='Forward particles')\n",
        "  ax[0].plot(x_grid, B[:,t_slice], color = 'blue', linewidth = 2, dashes=[6, 2], label='Backward particles')\n",
        "  ax[0].plot(x_grid, F[:,t_slice] + B[:,t_slice], color = 'black', linewidth = 2, label='Sum F + B')\n",
        "  ax[0].set_xlabel('$R, cm$')\n",
        "  ax[0].set_ylabel('$F, B\\ density$')\n",
        "  ax[0].legend()\n",
        "  ax[0].grid(True)\n",
        "  LF = np.diff(F[-1,:])/F[-1,1:]\n",
        "  LB = np.diff(B[0,:])/B[0,1:]\n",
        "  ax[1].plot(t_grid[:t_slice], LF[:t_slice], color = 'red', linewidth = 2)\n",
        "  ax[1].plot(t_grid[:t_slice], LB[:t_slice], color = 'blue', linestyle='dashed', linewidth = 2)\n",
        "  ax[1].set_xlabel('time')\n",
        "  ax[1].set_ylabel('$\\lambda$')\n",
        "  ax[1].grid(True)\n",
        "  ax[1].legend(['$\\lambda$ right', '$\\lambda$ left'], shadow=True)\n",
        "  filename = './q2_dump_{0:04d}'.format(t_slice) + '.png'\n",
        "  plt.savefig(filename, dpi=300)\n",
        "  ### \n",
        "  plt.show() "
      ],
      "execution_count": 14,
      "outputs": []
    },
    {
      "cell_type": "code",
      "metadata": {
        "colab": {
          "base_uri": "https://localhost:8080/",
          "height": 655
        },
        "id": "XBhfaCKQUgLt",
        "outputId": "b4d928a8-1f13-468c-e31c-16a19ddf92ed"
      },
      "source": [
        "nonzero = list(range(290,310))\n",
        "initstate(nonzero, [1,1])\n",
        "boundary(0)\n",
        "solver()\n",
        "slices = list(range(0,16000,500))\n",
        "for s in slices:\n",
        "  plotter(x_grid, t_grid, F, B, s)"
      ],
      "execution_count": 16,
      "outputs": [
        {
          "output_type": "stream",
          "text": [
            "/usr/local/lib/python3.7/dist-packages/ipykernel_launcher.py:28: RuntimeWarning: invalid value encountered in true_divide\n",
            "/usr/local/lib/python3.7/dist-packages/ipykernel_launcher.py:29: RuntimeWarning: invalid value encountered in true_divide\n"
          ],
          "name": "stderr"
        },
        {
          "output_type": "display_data",
          "data": {
            "image/png": "[encoded data removed]",
            "text/plain": [
              "<Figure size 1400x700 with 2 Axes>"
            ]
          },
          "metadata": {
            "tags": []
          }
        }
      ]
    },
    {
      "cell_type": "code",
      "metadata": {
        "colab": {
          "base_uri": "https://localhost:8080/"
        },
        "id": "gJR71bBDVMR6",
        "outputId": "cc49ccc7-c1a0-4c17-cd2a-691e7101995c"
      },
      "source": [
        "list(range(0,16000,500))"
      ],
      "execution_count": 19,
      "outputs": [
        {
          "output_type": "execute_result",
          "data": {
            "text/plain": [
              "[0,\n",
              " 500,\n",
              " 1000,\n",
              " 1500,\n",
              " 2000,\n",
              " 2500,\n",
              " 3000,\n",
              " 3500,\n",
              " 4000,\n",
              " 4500,\n",
              " 5000,\n",
              " 5500,\n",
              " 6000,\n",
              " 6500,\n",
              " 7000,\n",
              " 7500,\n",
              " 8000,\n",
              " 8500,\n",
              " 9000,\n",
              " 9500,\n",
              " 10000,\n",
              " 10500,\n",
              " 11000,\n",
              " 11500,\n",
              " 12000,\n",
              " 12500,\n",
              " 13000,\n",
              " 13500,\n",
              " 14000,\n",
              " 14500,\n",
              " 15000,\n",
              " 15500]"
            ]
          },
          "metadata": {
            "tags": []
          },
          "execution_count": 19
        }
      ]
    },
    {
      "cell_type": "code",
      "metadata": {
        "colab": {
          "base_uri": "https://localhost:8080/"
        },
        "id": "9hQfLwZ2VzeD",
        "outputId": "c506d342-e34f-44a1-9498-7f8046bce53c"
      },
      "source": [
        "list(range(290,310))"
      ],
      "execution_count": null,
      "outputs": [
        {
          "output_type": "execute_result",
          "data": {
            "text/plain": [
              "[290,\n",
              " 291,\n",
              " 292,\n",
              " 293,\n",
              " 294,\n",
              " 295,\n",
              " 296,\n",
              " 297,\n",
              " 298,\n",
              " 299,\n",
              " 300,\n",
              " 301,\n",
              " 302,\n",
              " 303,\n",
              " 304,\n",
              " 305,\n",
              " 306,\n",
              " 307,\n",
              " 308,\n",
              " 309]"
            ]
          },
          "metadata": {
            "tags": []
          },
          "execution_count": 107
        }
      ]
    },
    {
      "cell_type": "code",
      "metadata": {
        "colab": {
          "base_uri": "https://localhost:8080/"
        },
        "id": "HObpYiiSZ1FH",
        "outputId": "a21238a1-997d-490d-c97b-27754cb5cd0a"
      },
      "source": [
        "x[:-1]"
      ],
      "execution_count": null,
      "outputs": [
        {
          "output_type": "execute_result",
          "data": {
            "text/plain": [
              "[1, 2, 3, 4]"
            ]
          },
          "metadata": {
            "tags": []
          },
          "execution_count": 67
        }
      ]
    },
    {
      "cell_type": "code",
      "metadata": {
        "colab": {
          "base_uri": "https://localhost:8080/"
        },
        "id": "m91fNql7Z77J",
        "outputId": "e0eeb7d0-e854-42da-ee18-871e3aa3600a"
      },
      "source": [
        "x[1:]"
      ],
      "execution_count": null,
      "outputs": [
        {
          "output_type": "execute_result",
          "data": {
            "text/plain": [
              "[2, 3, 4, 5]"
            ]
          },
          "metadata": {
            "tags": []
          },
          "execution_count": 68
        }
      ]
    },
    {
      "cell_type": "code",
      "metadata": {
        "id": "qlHbrilOZ-vE"
      },
      "source": [
        ""
      ],
      "execution_count": null,
      "outputs": []
    }
  ]
}