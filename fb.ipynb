{
  "nbformat": 4,
  "nbformat_minor": 0,
  "metadata": {
    "colab": {
      "name": "Untitled4.ipynb",
      "provenance": [],
      "collapsed_sections": [],
      "authorship_tag": "ABX9TyPMWR53DV/BdrDImsSRFNMy",
      "include_colab_link": true
    },
    "kernelspec": {
      "name": "python3",
      "display_name": "Python 3"
    },
    "language_info": {
      "name": "python"
    }
  },
  "cells": [
    {
      "cell_type": "markdown",
      "metadata": {
        "id": "view-in-github",
        "colab_type": "text"
      },
      "source": [
        "<a href=\"https://colab.research.google.com/github/adarchenko/test_sandbox/blob/main/fb.ipynb\" target=\"_parent\"><img src=\"https://colab.research.google.com/assets/colab-badge.svg\" alt=\"Open In Colab\"/></a>"
      ]
    },
    {
      "cell_type": "code",
      "metadata": {
        "id": "Tj3Q4hY1PHxY"
      },
      "source": [
        "import numpy as np\n",
        "import matplotlib.pyplot as plt\n",
        "import matplotlib\n",
        "import time"
      ],
      "execution_count": 21,
      "outputs": []
    },
    {
      "cell_type": "code",
      "metadata": {
        "id": "4QhetJ-NSwE6"
      },
      "source": [
        "# media parameters\n",
        "rho = 18.7\n",
        "A = 235\n",
        "Na = 6.022141e24\n",
        "conc = Na * rho / A\n",
        "# cross-sections\n",
        "sigma_t = 7.85e-24\n",
        "sigma_c = 0.13e-24\n",
        "sigma_s = 6.47e-24\n",
        "sigma_f = 1.25e-24\n",
        "q = 0.1\n",
        "nu = 2.0\n",
        "v = 138"
      ],
      "execution_count": 3,
      "outputs": []
    },
    {
      "cell_type": "code",
      "metadata": {
        "id": "FAXz7oruPn9f"
      },
      "source": [
        "alpha = conc * (sigma_s * q + 0.5*sigma_f * nu)\n",
        "beta  = conc * (sigma_t - sigma_s * (1 - q) - 0.5*sigma_f * nu)\n"
      ],
      "execution_count": 4,
      "outputs": []
    },
    {
      "cell_type": "code",
      "metadata": {
        "id": "kNY6aIv_PpsC"
      },
      "source": [
        "# mesh parameters\n",
        "R = 10.0\n",
        "Nx = 600 - 1\n",
        "h = R / Nx\n",
        "k = 0.5\n",
        "tau = h * k / v\n",
        "T = 1.0\n",
        "Nt = int(T/tau)\n",
        "x_grid = np.linspace(0,R,Nx)\n",
        "t_grid = np.linspace(0,T,Nt)\n",
        "F = np.zeros([Nx,Nt])\n",
        "B = np.zeros([Nx,Nt])"
      ],
      "execution_count": 5,
      "outputs": []
    },
    {
      "cell_type": "code",
      "metadata": {
        "id": "d0mjqgpES2Vt"
      },
      "source": [
        "def initstate(interval, inits):\n",
        "  F[interval,0] = inits[0]\n",
        "  B[interval,0] = inits[1]\n"
      ],
      "execution_count": 6,
      "outputs": []
    },
    {
      "cell_type": "code",
      "metadata": {
        "id": "rd1E8v6xXz87"
      },
      "source": [
        "def boundary(time_slice):\n",
        "  F[0,time_slice] = 0\n",
        "  B[-1,time_slice] = 0"
      ],
      "execution_count": 7,
      "outputs": []
    },
    {
      "cell_type": "code",
      "metadata": {
        "id": "ZKmrKuOnS7k1"
      },
      "source": [
        "def solver():\n",
        "  for i in range(Nt-1):\n",
        "    F[1:,i+1] = F[1:,i] + v*tau * ( - alpha*F[1:,i] + beta*B[1:,i]) - k*(F[1:,i] - F[:-1,i])\n",
        "    B[:-1,i+1] = B[:-1,i] + v*tau * ( - alpha*B[:-1,i] + beta*F[:-1,i]) - k*(B[:-1,i] - B[1:,i])\n",
        "    boundary(i+1)\n"
      ],
      "execution_count": 8,
      "outputs": []
    },
    {
      "cell_type": "code",
      "metadata": {
        "id": "DVva8_e0c45R"
      },
      "source": [
        "def plotter(x_grid, t_grid, F, B, t_slice):\n",
        "  fig, ax = plt.subplots(1,2, figsize=(14,7), dpi= 100, facecolor='w', edgecolor='k')\n",
        "  SMALL_SIZE = 12\n",
        "  MEDIUM_SIZE = 14\n",
        "  BIGGER_SIZE = 14\n",
        "  # font = {'family' : 'normal',\n",
        "  #        'weight' : 'bold',\n",
        "  #        'size'   : 22}\n",
        "  font = {'family': 'Monospace'}\n",
        "  matplotlib.rc('font', **font)\n",
        "  plt.rc('font', size=SMALL_SIZE)          # controls default text sizes\n",
        "  plt.rc('axes', titlesize=SMALL_SIZE)     # fontsize of the axes title\n",
        "  plt.rc('axes', labelsize=MEDIUM_SIZE)    # fontsize of the x and y labels\n",
        "  plt.rc('xtick', labelsize=SMALL_SIZE)    # fontsize of the tick labels\n",
        "  plt.rc('ytick', labelsize=SMALL_SIZE)    # fontsize of the tick labels\n",
        "  plt.rc('legend', fontsize=SMALL_SIZE)    # legend fontsize\n",
        "  plt.rc('figure', titlesize=BIGGER_SIZE)  # fontsize of the figure title\n",
        "  # Конец оформления и начало собственно построения графиков\n",
        "  ###  \n",
        "  # Using set_dashes() to modify dashing of an existing line\n",
        "  ax[0].plot(x_grid, F[:,t_slice], color = 'red', linewidth = 2, dashes=[6, 2], label='Forward particles')\n",
        "  ax[0].plot(x_grid, B[:,t_slice], color = 'blue', linewidth = 2, dashes=[6, 2], label='Backward particles')\n",
        "  ax[0].plot(x_grid, F[:,t_slice] + B[:,t_slice], color = 'black', linewidth = 2, label='Sum F + B')\n",
        "  ax[0].set_xlabel('$R, cm$')\n",
        "  ax[0].set_ylabel('$F, B\\ density$')\n",
        "  ax[0].legend()\n",
        "  ax[0].grid(True)\n",
        "  LF = np.diff(F[-1,:])/F[-1,1:]\n",
        "  LB = np.diff(B[0,:])/B[0,1:]\n",
        "  ax[1].plot(t_grid[t_slice-50:t_slice], LF[t_slice-50:t_slice], color = 'red', linewidth = 2)\n",
        "  ax[1].plot(t_grid[t_slice-50:t_slice], LB[t_slice-50:t_slice], color = 'blue', linestyle='dashed', linewidth = 2)\n",
        "  ax[1].set_xlabel('time')\n",
        "  ax[1].set_ylabel('$\\lambda$')\n",
        "  ax[1].grid(True)\n",
        "  ax[1].legend(['$\\lambda$ right', '$\\lambda$ left'], shadow=True)\n",
        "  filename = './q2_dump_{0:04d}'.format(t_slice) + '.png'\n",
        "  plt.savefig(filename, dpi=300)\n",
        "  ### \n",
        "  plt.show()\n",
        "  time.sleep(3)\n",
        "  plt.close('all')"
      ],
      "execution_count": 24,
      "outputs": []
    },
    {
      "cell_type": "code",
      "metadata": {
        "id": "XBhfaCKQUgLt"
      },
      "source": [
        "nonzero = list(range(290,310))\n",
        "initstate(nonzero, [1,1])\n",
        "boundary(0)\n",
        "solver()\n",
        "slices = list(range(0,16000,500))\n",
        "for s in slices:\n",
        "  plotter(x_grid, t_grid, F, B, s)"
      ],
      "execution_count": null,
      "outputs": []
    },
    {
      "cell_type": "code",
      "metadata": {
        "id": "qlHbrilOZ-vE"
      },
      "source": [
        ""
      ],
      "execution_count": null,
      "outputs": []
    }
  ]
}